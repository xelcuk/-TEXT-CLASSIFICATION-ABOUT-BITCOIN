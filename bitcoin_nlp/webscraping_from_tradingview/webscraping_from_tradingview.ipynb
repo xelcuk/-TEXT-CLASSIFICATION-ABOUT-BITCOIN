{
 "cells": [
  {
   "cell_type": "code",
   "execution_count": 1,
   "id": "39b056e9-9552-445c-8b26-dad1cecd3abd",
   "metadata": {},
   "outputs": [],
   "source": [
    "def getAndParseURL(url):\n",
    "    result = requests.get(url, headers={\"User-Agent\":\"Chrome/115.0.5790.171\"}) \n",
    "    soup = bts(result.text, \"html.parser\")\n",
    "    return soup"
   ]
  },
  {
   "cell_type": "code",
   "execution_count": 2,
   "id": "68749ccd-d313-4c42-8184-c9c8f07cbef1",
   "metadata": {
    "tags": []
   },
   "outputs": [],
   "source": [
    "import requests\n",
    "from bs4 import BeautifulSoup as bts\n",
    "import pandas as pd\n",
    "import re\n",
    "import numpy as np\n",
    "import time"
   ]
  },
  {
   "cell_type": "code",
   "execution_count": 3,
   "id": "f2f06bfe-eac2-4aed-9652-ad0ec3bdbed3",
   "metadata": {},
   "outputs": [],
   "source": [
    "from bs4 import BeautifulSoup\n",
    "import requests\n",
    "import time, os"
   ]
  },
  {
   "cell_type": "code",
   "execution_count": 4,
   "id": "1d71f43e-88d5-42d1-b985-c00d7bfbf047",
   "metadata": {},
   "outputs": [],
   "source": [
    "from selenium import webdriver\n",
    "from selenium.webdriver.common.keys import Keys\n",
    "import warnings\n",
    "warnings.filterwarnings(action='ignore')"
   ]
  },
  {
   "cell_type": "code",
   "execution_count": 5,
   "id": "fe42d6eb-f061-417c-a1fb-d43fd3c9e678",
   "metadata": {},
   "outputs": [],
   "source": [
    "from selenium.webdriver.common.by import By"
   ]
  },
  {
   "cell_type": "code",
   "execution_count": 6,
   "id": "8a75c828-daf4-45c3-9e97-c0097b0596ba",
   "metadata": {},
   "outputs": [],
   "source": [
    "def getAndParseURL(url):\n",
    "    result = requests.get(url)\n",
    "    soup = bts(result.text, 'html.parser')\n",
    "    return soup"
   ]
  },
  {
   "cell_type": "code",
   "execution_count": 7,
   "id": "805bd577-3339-43ca-9ad3-cd9c413df8b4",
   "metadata": {},
   "outputs": [
    {
     "data": {
      "text/plain": [
       "['https://www.tradingview.com/symbols/BTCUSD/ideas/',\n",
       " 'https://www.tradingview.com/symbols/BTCUSD/ideas/page-2/']"
      ]
     },
     "execution_count": 7,
     "metadata": {},
     "output_type": "execute_result"
    }
   ],
   "source": [
    "pages = [\"https://www.tradingview.com/symbols/BTCUSD/ideas/\"]\n",
    "for page in range(2,501):\n",
    "    pages.append(\"https://www.tradingview.com/symbols/BTCUSD/ideas/\" +\"page-\" + str(page)+\"/\")\n",
    "    \n",
    "pages"
   ]
  },
  {
   "cell_type": "code",
   "execution_count": 8,
   "id": "025f81be-8df4-4c35-bff3-80c9d1c1b1f5",
   "metadata": {},
   "outputs": [],
   "source": [
    "html=getAndParseURL(\"https://www.tradingview.com/symbols/BTCUSD/ideas/\")"
   ]
  },
  {
   "cell_type": "code",
   "execution_count": 9,
   "id": "86f72b11-246a-4855-9ea8-f5618a1a5b12",
   "metadata": {
    "tags": []
   },
   "outputs": [
    {
     "data": {
      "text/plain": [
       "<a class=\"tv-widget-idea__title apply-overflow-tooltip js-widget-idea__popup\" data-href=\"/chart/BTCUSD/SoO8rayh-Still-Bearish-Part-2-Name-Your-Altcoin/\" href=\"/chart/BTCUSD/SoO8rayh-Still-Bearish-Part-2-Name-Your-Altcoin/\">🅱️ Still Bearish (Part 2) | Name Your Altcoin</a>"
      ]
     },
     "execution_count": 9,
     "metadata": {},
     "output_type": "execute_result"
    }
   ],
   "source": [
    "html.find(\"a\",{\"class\":\"tv-widget-idea__title apply-overflow-tooltip js-widget-idea__popup\"})"
   ]
  },
  {
   "cell_type": "code",
   "execution_count": 10,
   "id": "63d0a78e-4281-4f1c-be82-1c2d37360f81",
   "metadata": {
    "tags": []
   },
   "outputs": [
    {
     "data": {
      "text/plain": [
       "'/chart/BTCUSD/SoO8rayh-Still-Bearish-Part-2-Name-Your-Altcoin/'"
      ]
     },
     "execution_count": 10,
     "metadata": {},
     "output_type": "execute_result"
    }
   ],
   "source": [
    "html.find(\"a\",{\"class\":\"tv-widget-idea__title apply-overflow-tooltip js-widget-idea__popup\"}).get(\"href\")"
   ]
  },
  {
   "cell_type": "code",
   "execution_count": 11,
   "id": "fd6af3f7-c3a0-4003-9ff3-63d90b29a550",
   "metadata": {
    "tags": []
   },
   "outputs": [
    {
     "data": {
      "text/plain": [
       "'https://www.tradingview.com/chart/BTCUSD/SoO8rayh-Still-Bearish-Part-2-Name-Your-Altcoin/'"
      ]
     },
     "execution_count": 11,
     "metadata": {},
     "output_type": "execute_result"
    }
   ],
   "source": [
    "\"https://www.tradingview.com\"+html.find(\"a\",{\"class\":\"tv-widget-idea__title apply-overflow-tooltip js-widget-idea__popup\"}).get(\"href\")"
   ]
  },
  {
   "cell_type": "code",
   "execution_count": 125,
   "id": "d5e1b221-5663-4721-9993-2f6b4a2a31df",
   "metadata": {
    "tags": []
   },
   "outputs": [],
   "source": [
    "#https://www.tradingview.com"
   ]
  },
  {
   "cell_type": "code",
   "execution_count": 12,
   "id": "f54995ed-07a2-49a7-871a-528b0f3c0fa2",
   "metadata": {
    "tags": []
   },
   "outputs": [
    {
     "data": {
      "text/plain": [
       "['https://www.tradingview.com/chart/BTCUSD/SoO8rayh-Still-Bearish-Part-2-Name-Your-Altcoin/',\n",
       " 'https://www.tradingview.com/chart/BTCUSD/4qwxw3aV-BTC-SHORT-From-46-4K/',\n",
       " 'https://www.tradingview.com/chart/BTCUSD/R9heD2i0-Bitcoin-Overlooking-The-Wave-Count/',\n",
       " 'https://www.tradingview.com/chart/BTCUSD/eZU37LQI-Deciphering-Bitcoin-s-Cyclical-Trends-Phases/',\n",
       " 'https://www.tradingview.com/chart/BTCUSD/eRBLolwh-BITCOIN-Stocks-are-hitting-ATH-earlier-than-BTC-Is-it-normal/',\n",
       " 'https://www.tradingview.com/chart/BTCUSD/VTcZi9BE-My-2023-Bitcoin-Short/',\n",
       " 'https://www.tradingview.com/chart/BTCUSD/86WGMWyt-Bitcoin-BTC-price-moves-according-to-the-fractal-from-the-past/',\n",
       " 'https://www.tradingview.com/chart/BTCUSD/E7nWCKLw-BTCUSD-How-fast-will-the-BITCOIN-reach-50K-and-then-what/',\n",
       " 'https://www.tradingview.com/chart/BTCUSD/kekSRSVI-BITCOIN-still-trading-very-similarly-to-2016-Still-missing-out/',\n",
       " 'https://www.tradingview.com/chart/BTCUSD/nmbb1Upp-BTC-s-Situation-What-Shall-we-Expect/',\n",
       " 'https://www.tradingview.com/chart/BTCUSD/4bK4DrNe-BEAR-TRAP-up-ahead/',\n",
       " 'https://www.tradingview.com/chart/BTCUSD/YCjO6j9u-BITCOIN-Bearish-Double-TOP/',\n",
       " 'https://www.tradingview.com/chart/BTCUSD/7pCxnri5-What-Leveraged-Bitcoin-Is-Doing-In-This-Move/',\n",
       " 'https://www.tradingview.com/chart/BTCUSD/vJi3DtPn-Trading-in-December-Everything-You-Need-to-Know/',\n",
       " 'https://www.tradingview.com/chart/BTCUSD/T56XO4f8-BTCUSD-Amazing-similarity-with-2020-Will-the-1D-MA50-hold/',\n",
       " 'https://www.tradingview.com/chart/BTCUSD/YborCh2M-Is-Bitcoin-about-to-rally-to-110-120k/',\n",
       " 'https://www.tradingview.com/chart/BTCUSD/HhhYmdFk-Bitcoin-BTC-Liquidated-Many-Traders-Massive-Drop/',\n",
       " 'https://www.tradingview.com/chart/BTCUSD/chyHB6u1-possibility-of-uptrend/',\n",
       " 'https://www.tradingview.com/chart/BTCUSD/XNzKA4Xa-The-CryptoSniper-s-Bitcoin-prediction-140k/',\n",
       " 'https://www.tradingview.com/chart/BTCUSD/7seTC50n-The-first-big-pullback-since-mid-October-2023/',\n",
       " 'https://www.tradingview.com/chart/BTCUSD/BH3j5Ssp-Looking-at-my-BTCUSD-chart-im-seeing-a-some-big-sells-coming/',\n",
       " 'https://www.tradingview.com/chart/BTCUSD/J5yLFPvD-Bitcoin-ETFs-coming-soon-what-could-happen/',\n",
       " 'https://www.tradingview.com/chart/BTCUSD/4yxtmiRY-BTC-USDT-Correction-or-continuation/',\n",
       " 'https://www.tradingview.com/chart/BTCUSD/P6p2bEiw-BTCUSD-Trading-Strategy-Technical-and-Order-Flow-Analysis/',\n",
       " 'https://www.tradingview.com/chart/BTCUSD/FQ0IJV42-BTCUSD-11-DEC-2023/',\n",
       " 'https://www.tradingview.com/chart/BTCUSD/rbwsgX4d-Bitcoin-Historical-oversold-on-the-monthly-at-Extreme-Fear/',\n",
       " 'https://www.tradingview.com/chart/BTCUSD/RPZfWGLp-BITCOIN-Global-bonds-and-Yuan-signal-a-strong-rally-ahead/',\n",
       " 'https://www.tradingview.com/chart/BTCUSD/pA90IIIJ-super-duper-down-turn-soon/',\n",
       " 'https://www.tradingview.com/chart/BTCUSD/h1z3Tiir-BTC-to-the-moon/',\n",
       " 'https://www.tradingview.com/chart/BTCUSD/EkoPnsv7-BTC-Bull-above-44-000/',\n",
       " 'https://www.tradingview.com/chart/BTCUSD/F4CiaXDg-BTC-Update/',\n",
       " 'https://www.tradingview.com/chart/BTCUSD/9awLzGSz-BITCOIN-Will-it-pull-back-or-straight-to-the-parabolic-rally/',\n",
       " 'https://www.tradingview.com/chart/BTCUSD/sE3aZKxY-Sorry-Bitcoin-Bears-but-the-downwards-trend-has-finished/',\n",
       " 'https://www.tradingview.com/chart/BTCUSD/6KmUtTe5-Sharp-Change-in-BTC-USD-Price-Causes-and-Consequences/',\n",
       " 'https://www.tradingview.com/chart/BTCUSD/eeWuDKpj-BITCOIN-HISTORICAL-CYCLES-AND-HEALING-ROADMAP/',\n",
       " 'https://www.tradingview.com/chart/BTCUSD/zxBoFBhV-BTC-Bitcoin-Will-Reach-77-000-or-28-000-READ-Caption/']"
      ]
     },
     "execution_count": 12,
     "metadata": {},
     "output_type": "execute_result"
    }
   ],
   "source": [
    "links = []\n",
    "for page in pages:\n",
    "    html = getAndParseURL(page)\n",
    "    for sonuc in html.findAll(\"a\",{\"class\":\"tv-widget-idea__title apply-overflow-tooltip js-widget-idea__popup\"}):\n",
    "        links.append(\"https://www.tradingview.com\" + sonuc.get(\"href\"))\n",
    "\n",
    "links"
   ]
  },
  {
   "cell_type": "code",
   "execution_count": 13,
   "id": "cb872269-e7ff-4640-94c8-6693b78a85a2",
   "metadata": {
    "tags": []
   },
   "outputs": [
    {
     "data": {
      "text/plain": [
       "36"
      ]
     },
     "execution_count": 13,
     "metadata": {},
     "output_type": "execute_result"
    }
   ],
   "source": [
    "len(links)"
   ]
  },
  {
   "cell_type": "code",
   "execution_count": 128,
   "id": "fc6d6aa6-72d4-49e7-b72e-3e770a83978d",
   "metadata": {
    "tags": []
   },
   "outputs": [],
   "source": [
    "html=getAndParseURL(\"https://www.tradingview.com/chart/BTCUSD/5LAMnDe9-BTC-Entering-the-Crush-Stage-of-the-Downtrend/\")"
   ]
  },
  {
   "cell_type": "code",
   "execution_count": 129,
   "id": "6cd50be1-c39f-4b08-9c46-411589959177",
   "metadata": {
    "tags": []
   },
   "outputs": [
    {
     "data": {
      "text/plain": [
       "'A big downtrend usually comes in a few parts.  \\n\\r\\n1 - The warning. A clear break from the highs but it\\'s overlooked because \"Bears are always wrong\" (Etc etc).  \\n\\r\\n2 - The crash. Obvious failure of the uptrend. Unfortunately, this is when people often want to get all in because \"It always goes back up\" (Etc etc).  \\n\\r\\n3 - The big trap. Usually a rally of somewhere in the 100% range which makes everyone think the new bull run is starting.  \\n\\r\\n4 - The crush and re-crush. The new bull trap fails and sets up a prolonged downtrend.  \\n\\r\\nHere are some forecasts very few people seem to have on their radar right now.  \\n\\r\\n1 - BTC is making a high at 30K.  31K will not be broken. We will not see BTC over 31K any time in the coming years. Yes - I said years.  \\n\\r\\n2 - The next big drop will take us to about 17K BTC.  \\n\\r\\n3 - After a bull trap we\\'ll be in a consistent downtrend. \\n\\r\\n4 - Over the next 3-4 years BTC will trade under 10K. Probably close to 6K.  \\n\\r\\nAnd this would complete the 2021 forecast.'"
      ]
     },
     "execution_count": 129,
     "metadata": {},
     "output_type": "execute_result"
    }
   ],
   "source": [
    "html.find(\"div\",{\"dir\":\"auto\"}).text.strip()"
   ]
  },
  {
   "cell_type": "code",
   "execution_count": 130,
   "id": "d4f54959-ea18-445d-a675-4bc69647e9d8",
   "metadata": {
    "tags": []
   },
   "outputs": [
    {
     "data": {
      "text/plain": [
       "'Short'"
      ]
     },
     "execution_count": 130,
     "metadata": {},
     "output_type": "execute_result"
    }
   ],
   "source": [
    "html.find(\"span\",{\"class\":\"content-PlSmolIm badge-idea-content-ZleujXqe\"}).text.strip()"
   ]
  },
  {
   "cell_type": "code",
   "execution_count": 131,
   "id": "22e99d89-c572-4d82-b947-d72b4fc4134a",
   "metadata": {
    "tags": []
   },
   "outputs": [],
   "source": [
    "result = []\n",
    "for sonuc in links:\n",
    "    html = getAndParseURL(sonuc)\n",
    "    \n",
    "    try:\n",
    "        cumle = html.find(\"div\",{\"dir\":\"auto\"}).text.strip()\n",
    "    except:\n",
    "        cumle = np.nan\n",
    "    try:\n",
    "        tahmin_sanirim = html.find(\"span\",{\"class\":\"content-PlSmolIm badge-idea-content-ZleujXqe\"}).text.strip()\n",
    "    except:\n",
    "        tahmin_sanirim = np.nan      \n",
    "        \n",
    "    result.append([cumle,tahmin_sanirim])\n",
    "    time.sleep(3)"
   ]
  },
  {
   "cell_type": "code",
   "execution_count": 132,
   "id": "daeb5c53-3157-481e-af06-c559b44f91b3",
   "metadata": {
    "tags": []
   },
   "outputs": [],
   "source": [
    "columns = [\"sentence\",\"idea\"]\n",
    "df = pd.DataFrame.from_records(result, columns=columns)"
   ]
  },
  {
   "cell_type": "code",
   "execution_count": 133,
   "id": "857a6268-c59b-4c7b-a04b-2629aa961580",
   "metadata": {
    "tags": []
   },
   "outputs": [
    {
     "data": {
      "text/html": [
       "<div>\n",
       "<style scoped>\n",
       "    .dataframe tbody tr th:only-of-type {\n",
       "        vertical-align: middle;\n",
       "    }\n",
       "\n",
       "    .dataframe tbody tr th {\n",
       "        vertical-align: top;\n",
       "    }\n",
       "\n",
       "    .dataframe thead th {\n",
       "        text-align: right;\n",
       "    }\n",
       "</style>\n",
       "<table border=\"1\" class=\"dataframe\">\n",
       "  <thead>\n",
       "    <tr style=\"text-align: right;\">\n",
       "      <th></th>\n",
       "      <th>sentence</th>\n",
       "      <th>predict</th>\n",
       "    </tr>\n",
       "  </thead>\n",
       "  <tbody>\n",
       "    <tr>\n",
       "      <th>0</th>\n",
       "      <td>A big downtrend usually comes in a few parts. ...</td>\n",
       "      <td>Short</td>\n",
       "    </tr>\n",
       "    <tr>\n",
       "      <th>1</th>\n",
       "      <td>Bitcoin (BTCUSD) typically starts the (final a...</td>\n",
       "      <td>Long</td>\n",
       "    </tr>\n",
       "    <tr>\n",
       "      <th>2</th>\n",
       "      <td>Bitcoin is currently in the process of breakin...</td>\n",
       "      <td>Long</td>\n",
       "    </tr>\n",
       "    <tr>\n",
       "      <th>3</th>\n",
       "      <td>i will follow this trend. new all time high wo...</td>\n",
       "      <td>Long</td>\n",
       "    </tr>\n",
       "    <tr>\n",
       "      <th>4</th>\n",
       "      <td>In this analysis I want to take a look at thre...</td>\n",
       "      <td>Long</td>\n",
       "    </tr>\n",
       "  </tbody>\n",
       "</table>\n",
       "</div>"
      ],
      "text/plain": [
       "                                            sentence predict\n",
       "0  A big downtrend usually comes in a few parts. ...   Short\n",
       "1  Bitcoin (BTCUSD) typically starts the (final a...    Long\n",
       "2  Bitcoin is currently in the process of breakin...    Long\n",
       "3  i will follow this trend. new all time high wo...    Long\n",
       "4  In this analysis I want to take a look at thre...    Long"
      ]
     },
     "execution_count": 133,
     "metadata": {},
     "output_type": "execute_result"
    }
   ],
   "source": [
    "df.head()"
   ]
  },
  {
   "cell_type": "code",
   "execution_count": 134,
   "id": "a90da654-4b95-4342-9388-7fd714227f45",
   "metadata": {
    "tags": []
   },
   "outputs": [
    {
     "name": "stdout",
     "output_type": "stream",
     "text": [
      "<class 'pandas.core.frame.DataFrame'>\n",
      "RangeIndex: 8999 entries, 0 to 8998\n",
      "Data columns (total 2 columns):\n",
      " #   Column    Non-Null Count  Dtype \n",
      "---  ------    --------------  ----- \n",
      " 0   sentence  8999 non-null   object\n",
      " 1   predict   5868 non-null   object\n",
      "dtypes: object(2)\n",
      "memory usage: 140.7+ KB\n"
     ]
    }
   ],
   "source": [
    "df.info()"
   ]
  },
  {
   "cell_type": "code",
   "execution_count": 139,
   "id": "a61f1286-ab54-4533-b9c6-2d8caf7f0f3b",
   "metadata": {
    "tags": []
   },
   "outputs": [
    {
     "data": {
      "text/plain": [
       "predict\n",
       "Long         3473\n",
       "Short        2178\n",
       "Education     217\n",
       "Name: count, dtype: int64"
      ]
     },
     "execution_count": 139,
     "metadata": {},
     "output_type": "execute_result"
    }
   ],
   "source": [
    "df.predict.value_counts()"
   ]
  },
  {
   "cell_type": "code",
   "execution_count": 135,
   "id": "b98c798f-2b38-4539-b9e6-0a1a1596828e",
   "metadata": {
    "tags": []
   },
   "outputs": [],
   "source": [
    "df.to_csv('trading_view.csv')\n",
    "df.to_pickle('trading_view.pkl')"
   ]
  },
  {
   "cell_type": "code",
   "execution_count": 136,
   "id": "4bcd09a0-25fc-427a-af5a-9ac3a27664e9",
   "metadata": {},
   "outputs": [],
   "source": [
    "df2=pd.read_csv('trading_view.csv')"
   ]
  },
  {
   "cell_type": "code",
   "execution_count": 1,
   "id": "42efd7af-d14d-4dad-b7a3-f6d1318e3ac8",
   "metadata": {},
   "outputs": [
    {
     "ename": "NameError",
     "evalue": "name 'df2' is not defined",
     "output_type": "error",
     "traceback": [
      "\u001b[1;31m---------------------------------------------------------------------------\u001b[0m",
      "\u001b[1;31mNameError\u001b[0m                                 Traceback (most recent call last)",
      "Cell \u001b[1;32mIn[1], line 1\u001b[0m\n\u001b[1;32m----> 1\u001b[0m \u001b[43mdf2\u001b[49m\u001b[38;5;241m.\u001b[39mhead(\u001b[38;5;241m33\u001b[39m)\n",
      "\u001b[1;31mNameError\u001b[0m: name 'df2' is not defined"
     ]
    }
   ],
   "source": [
    "df2.head(33)"
   ]
  },
  {
   "cell_type": "code",
   "execution_count": null,
   "id": "27caa8a5-3e4e-4471-8f43-a45817e5afde",
   "metadata": {},
   "outputs": [],
   "source": []
  },
  {
   "cell_type": "code",
   "execution_count": null,
   "id": "dbf98db5-9c12-4b9e-976b-439cde9f46a4",
   "metadata": {},
   "outputs": [],
   "source": []
  },
  {
   "cell_type": "code",
   "execution_count": null,
   "id": "7d2a4785-6488-415a-a25a-6c4a6131f552",
   "metadata": {},
   "outputs": [],
   "source": []
  },
  {
   "cell_type": "code",
   "execution_count": null,
   "id": "d65a8a20-d93a-4a69-8eda-c0a88885575e",
   "metadata": {},
   "outputs": [],
   "source": []
  },
  {
   "cell_type": "code",
   "execution_count": null,
   "id": "5e865a52-723c-4991-8486-274e0f592712",
   "metadata": {},
   "outputs": [],
   "source": []
  },
  {
   "cell_type": "code",
   "execution_count": null,
   "id": "831fae47-6dca-4cd3-88f2-d635be80683d",
   "metadata": {},
   "outputs": [],
   "source": []
  },
  {
   "cell_type": "code",
   "execution_count": null,
   "id": "c9a57710-618c-488c-aa26-2ecae9311659",
   "metadata": {},
   "outputs": [],
   "source": []
  },
  {
   "cell_type": "code",
   "execution_count": null,
   "id": "8c4563e5-5553-4940-9ea3-b4c73a9c1244",
   "metadata": {},
   "outputs": [],
   "source": []
  },
  {
   "cell_type": "code",
   "execution_count": null,
   "id": "13c0b2dd-82ca-46c9-a8cb-026cd2b485bc",
   "metadata": {},
   "outputs": [],
   "source": []
  },
  {
   "cell_type": "code",
   "execution_count": null,
   "id": "a85caad0-ded0-4939-9b1d-4fd89968df73",
   "metadata": {},
   "outputs": [],
   "source": []
  },
  {
   "cell_type": "code",
   "execution_count": null,
   "id": "818c7b50-9bcd-4e1e-894e-d8120a22be00",
   "metadata": {},
   "outputs": [],
   "source": []
  },
  {
   "cell_type": "code",
   "execution_count": null,
   "id": "c0aa45d9-45e2-4cae-a9b2-72f74976852f",
   "metadata": {},
   "outputs": [],
   "source": []
  },
  {
   "cell_type": "code",
   "execution_count": null,
   "id": "fb7bde2c-977a-4f48-ab5b-a882ac1d7f7e",
   "metadata": {},
   "outputs": [],
   "source": []
  },
  {
   "cell_type": "code",
   "execution_count": null,
   "id": "bdc871b3-9b71-498f-a073-1455e434f384",
   "metadata": {},
   "outputs": [],
   "source": []
  },
  {
   "cell_type": "code",
   "execution_count": null,
   "id": "42155578-3b1f-4df0-82c9-0a677bcea928",
   "metadata": {},
   "outputs": [],
   "source": []
  },
  {
   "cell_type": "code",
   "execution_count": null,
   "id": "0ea69c40-cec1-46ab-ae4a-bde324236503",
   "metadata": {},
   "outputs": [],
   "source": []
  },
  {
   "cell_type": "code",
   "execution_count": null,
   "id": "f95aa0b2-7059-40c3-bdd8-3bd40c8443db",
   "metadata": {},
   "outputs": [],
   "source": []
  },
  {
   "cell_type": "code",
   "execution_count": null,
   "id": "39616874-b0dd-46d8-9115-c7c39c5f3513",
   "metadata": {},
   "outputs": [],
   "source": []
  },
  {
   "cell_type": "code",
   "execution_count": null,
   "id": "7c4d85ff-01ac-45d4-b3d4-2a2f889c79a3",
   "metadata": {},
   "outputs": [],
   "source": []
  },
  {
   "cell_type": "code",
   "execution_count": null,
   "id": "a459d941-efec-4ad8-aa37-df34c6a6506f",
   "metadata": {},
   "outputs": [],
   "source": []
  },
  {
   "cell_type": "code",
   "execution_count": null,
   "id": "df1683c0-4c71-47a0-94a3-110f9268ec0a",
   "metadata": {},
   "outputs": [],
   "source": []
  },
  {
   "cell_type": "code",
   "execution_count": null,
   "id": "807abafa-0b99-45d0-a10d-842b47e40ce6",
   "metadata": {},
   "outputs": [],
   "source": []
  },
  {
   "cell_type": "code",
   "execution_count": null,
   "id": "0c7a29be-ad38-409a-9e60-8508da56579b",
   "metadata": {},
   "outputs": [],
   "source": []
  },
  {
   "cell_type": "code",
   "execution_count": null,
   "id": "7b316d0a-ffb7-4b8f-834e-2749007a6873",
   "metadata": {},
   "outputs": [],
   "source": []
  },
  {
   "cell_type": "code",
   "execution_count": null,
   "id": "68552ea0-ffeb-48ea-a768-ae427cb70d0f",
   "metadata": {},
   "outputs": [],
   "source": []
  },
  {
   "cell_type": "code",
   "execution_count": null,
   "id": "2ba8e02c-2aaf-48a6-bc4d-81e837c2cbf6",
   "metadata": {},
   "outputs": [],
   "source": []
  },
  {
   "cell_type": "code",
   "execution_count": null,
   "id": "af620072-0f11-4c3c-95a1-94fe8963953d",
   "metadata": {},
   "outputs": [],
   "source": []
  }
 ],
 "metadata": {
  "kernelspec": {
   "display_name": "Python 3 (ipykernel)",
   "language": "python",
   "name": "python3"
  },
  "language_info": {
   "codemirror_mode": {
    "name": "ipython",
    "version": 3
   },
   "file_extension": ".py",
   "mimetype": "text/x-python",
   "name": "python",
   "nbconvert_exporter": "python",
   "pygments_lexer": "ipython3",
   "version": "3.11.7"
  }
 },
 "nbformat": 4,
 "nbformat_minor": 5
}
